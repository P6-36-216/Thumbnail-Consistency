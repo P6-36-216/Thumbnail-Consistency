{
 "cells": [
  {
   "cell_type": "markdown",
   "metadata": {},
   "source": [
    "### Resize"
   ]
  },
  {
   "cell_type": "code",
   "execution_count": null,
   "metadata": {},
   "outputs": [],
   "source": [
    "import cv2"
   ]
  },
  {
   "cell_type": "code",
   "execution_count": null,
   "metadata": {},
   "outputs": [],
   "source": [
    "img = cv2.imread('/home/pramatha/IMG_20170619_151258.jpg.jpg',cv2.IMREAD_UNCHANGED)\n",
    "\n",
    "cv2.imshow(\"Original image\",img)\n",
    "cv2.waitKey(0)\n",
    "\n",
    "print('Original dimensions:',img.shape)\n",
    "scale = 1200\n",
    "scale1=2000\n",
    "width = int(img.shape[1]*scale1 / 100)\n",
    "height = int(img.shape[0]*scale / 100)\n",
    "dim = (width,height)\n",
    "\n",
    "resized = cv2.resize(img,dim,interpolation=cv2.INTER_AREA)\n",
    "print('Resized dimensions:',resized.shape)\n",
    "\n",
    "\n",
    "cv2.imshow(\"Resized image\",resized)\n",
    "cv2.waitKey(0)\n",
    "cv2.destroyAllWindows()"
   ]
  },
  {
   "cell_type": "markdown",
   "metadata": {},
   "source": [
    "### Grayscale analysis"
   ]
  },
  {
   "cell_type": "code",
   "execution_count": null,
   "metadata": {},
   "outputs": [],
   "source": [
    "import cv2\n",
    "import numpy as np\n",
    "import matplotlib.pyplot as plt"
   ]
  },
  {
   "cell_type": "code",
   "execution_count": null,
   "metadata": {},
   "outputs": [],
   "source": [
    "img = cv2.imread('/home/pramatha/thumb.jpg')\n",
    "gra_img = cv2.cvtColor(img,cv2.COLOR_BGR2GRAY)\n",
    "\n",
    "hist = cv2.calcHist(gra_img,[0],None,[256],[0,256])\n",
    "plt.plot(hist)\n",
    "plt.show()"
   ]
  },
  {
   "cell_type": "code",
   "execution_count": null,
   "metadata": {},
   "outputs": [],
   "source": [
    "gra_img_eqhist = cv2.equalizeHist(gra_img)\n",
    "hist = cv2.calcHist(gra_img_eqhist,[0],None,[256],[0,256])\n",
    "plt.plot(hist)\n",
    "plt.show()"
   ]
  },
  {
   "cell_type": "code",
   "execution_count": null,
   "metadata": {},
   "outputs": [],
   "source": [
    "cv2.imshow(\"Img\",gra_img_eqhist)\n",
    "cv2.waitKey(0)\n",
    "cv2.destroyAllWindows()"
   ]
  },
  {
   "cell_type": "markdown",
   "metadata": {},
   "source": [
    "### Image negatives"
   ]
  },
  {
   "cell_type": "code",
   "execution_count": null,
   "metadata": {},
   "outputs": [],
   "source": [
    "import cv2\n",
    "import matplotlib.pyplot as plt\n",
    "import numpy as np"
   ]
  },
  {
   "cell_type": "code",
   "execution_count": null,
   "metadata": {},
   "outputs": [],
   "source": [
    "img = cv2.imread('/home/pramatha/thumb.jpg',0)\n",
    "inv_img = 255 - img\n",
    "fig = plt.figure(figsize=(15,5))\n",
    "\n",
    "ax= fig.add_subplot(121)\n",
    "plt.title('Original',fontsize=18)\n",
    "plt.imshow(img,cmap='gray')\n",
    "\n",
    "ax = fig.add_subplot(122)\n",
    "plt.imshow(inv_img,cmap='gray')\n",
    "ax.set_title('Inverse transform',fontsize=18)"
   ]
  },
  {
   "cell_type": "markdown",
   "metadata": {},
   "source": [
    "### Log transformations"
   ]
  },
  {
   "cell_type": "code",
   "execution_count": null,
   "metadata": {},
   "outputs": [],
   "source": [
    "import cv2\n",
    "import matplotlib.pyplot as plt\n",
    "import numpy as np"
   ]
  },
  {
   "cell_type": "code",
   "execution_count": null,
   "metadata": {},
   "outputs": [],
   "source": [
    "img = cv2.imread('/home/pramatha/thumb.jpg',0)\n",
    "img_log = 0.6 * (np.log(1+np.float32(img)))\n",
    "\n",
    "fig = plt.figure(figsize=(15,5))\n",
    "ax = fig.add_subplot(121)\n",
    "plt.title('Original',fontsize=18)\n",
    "plt.imshow(img)\n",
    "\n",
    "ax=fig.add_subplot(122)\n",
    "plt.imshow(img_log)\n",
    "ax.set_title('Log tranform',fontsize=18)"
   ]
  },
  {
   "cell_type": "markdown",
   "metadata": {},
   "source": [
    "### Power law transformations"
   ]
  },
  {
   "cell_type": "code",
   "execution_count": null,
   "metadata": {},
   "outputs": [],
   "source": [
    "import cv2\n",
    "import matplotlib.pyplot as plt\n",
    "import numpy as np"
   ]
  },
  {
   "cell_type": "code",
   "execution_count": null,
   "metadata": {
    "scrolled": true
   },
   "outputs": [],
   "source": [
    "img = cv2.imread('/home/pramatha/thumb.jpg')\n",
    "im1 = img/255.0\n",
    "img_pow = cv2.pow(im1,1.2)\n",
    "\n",
    "fig = plt.figure(figsize=(15,5))\n",
    "\n",
    "ax = fig.add_subplot(121)\n",
    "plt.title('Original',fontsize=18)\n",
    "plt.imshow(cv2.cvtColor(img,cv2.COLOR_BGR2RGB))\n",
    "\n",
    "ax = fig.add_subplot(122)\n",
    "plt.imshow(img_pow,cmap='gray')\n",
    "ax.set_title('Power Law Tranform',fontsize=18)"
   ]
  },
  {
   "cell_type": "markdown",
   "metadata": {},
   "source": [
    "### Create thumbnails using Pillow"
   ]
  },
  {
   "cell_type": "code",
   "execution_count": null,
   "metadata": {},
   "outputs": [],
   "source": [
    "from PIL import Image"
   ]
  },
  {
   "cell_type": "code",
   "execution_count": null,
   "metadata": {},
   "outputs": [],
   "source": [
    "def tnails():\n",
    "    try:\n",
    "        image = Image.open('/home/pramatha/IMG_20170619_151258.jpg')\n",
    "        image.thumbnail((90,90))\n",
    "        image.save('/home/pramatha/thumbnail.jpg')\n",
    "        image1 = Image.open('/home/pramatha/thumbnail.jpg')\n",
    "        image1.show()\n",
    "    except IOError:\n",
    "        pass\n",
    "tnails()"
   ]
  },
  {
   "cell_type": "code",
   "execution_count": null,
   "metadata": {},
   "outputs": [],
   "source": []
  }
 ],
 "metadata": {
  "kernelspec": {
   "display_name": "Python 3",
   "language": "python",
   "name": "python3"
  },
  "language_info": {
   "codemirror_mode": {
    "name": "ipython",
    "version": 3
   },
   "file_extension": ".py",
   "mimetype": "text/x-python",
   "name": "python",
   "nbconvert_exporter": "python",
   "pygments_lexer": "ipython3",
   "version": "3.9.5"
  }
 },
 "nbformat": 4,
 "nbformat_minor": 4
}
