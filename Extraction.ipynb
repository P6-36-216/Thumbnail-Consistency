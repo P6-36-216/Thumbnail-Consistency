{
 "cells": [
  {
   "cell_type": "code",
   "execution_count": null,
   "metadata": {},
   "outputs": [],
   "source": [
    "import cv2\n",
    "import matplotlib.pyplot as plt\n",
    "import numpy as np\n",
    "from PIL import Image"
   ]
  },
  {
   "cell_type": "markdown",
   "metadata": {},
   "source": [
    "### Extract thumbnail"
   ]
  },
  {
   "cell_type": "code",
   "execution_count": null,
   "metadata": {},
   "outputs": [],
   "source": [
    "def thumbnail():\n",
    "    try:\n",
    "        image = Image.open('image.jpg')\n",
    "        image.thumbnail((128,160))\n",
    "        image.save('thumbnail.jpg')\n",
    "        \n",
    "        thumb = Image.open('thumbnail.jpg')\n",
    "        thumb.show()\n",
    "    except IOError:\n",
    "        pass\n",
    "thumbnail()\n",
    "\n",
    "thumb = cv2.imread('thumbnail.jpg')\n",
    "print(thumb.shape)"
   ]
  },
  {
   "cell_type": "markdown",
   "metadata": {},
   "source": [
    "### Scale up the size of thumbnail to that of Forged Image"
   ]
  },
  {
   "cell_type": "code",
   "execution_count": null,
   "metadata": {},
   "outputs": [],
   "source": [
    "print('Original dimensions of thumbnail:',thumb.shape)\n",
    "\n",
    "scale = 400\n",
    "width = int(thumb.shape[1]*scale / 100)\n",
    "height = int(thumb.shape[0]*scale / 100)\n",
    "dim = (width,height)\n",
    "\n",
    "res = cv2.resize(thumb,dim,interpolation=cv2.INTER_AREA)\n",
    "print('Resized dimensions of thumbnail:', res.shape)\n",
    "\n",
    "dim=(width,height)\n",
    "orig = cv2.imread('image.jpg')\n",
    "res1 = cv2.resize(orig,dim,interpolation=cv2.INTER_AREA)\n",
    "\n",
    "print('Original dimensions of Image:',orig.shape)\n",
    "print('Resized dimensions of Image:',res1.shape)\n",
    "\n",
    "cv2.imshow('Thumbnail',res)\n",
    "cv2.waitKey()\n",
    "q\n",
    "cv2.imshow('Orignal',res1)\n",
    "cv2.waitKey()\n",
    "cv2.destroyAllWindows()"
   ]
  },
  {
   "cell_type": "markdown",
   "metadata": {},
   "source": [
    "### Image enhancement techniques"
   ]
  },
  {
   "cell_type": "markdown",
   "metadata": {},
   "source": [
    "### Image deblurring"
   ]
  },
  {
   "cell_type": "markdown",
   "metadata": {},
   "source": [
    "### Comparison of Forged and Thumbnail Images"
   ]
  },
  {
   "cell_type": "code",
   "execution_count": null,
   "metadata": {},
   "outputs": [],
   "source": []
  }
 ],
 "metadata": {
  "kernelspec": {
   "display_name": "Python 3",
   "language": "python",
   "name": "python3"
  },
  "language_info": {
   "codemirror_mode": {
    "name": "ipython",
    "version": 3
   },
   "file_extension": ".py",
   "mimetype": "text/x-python",
   "name": "python",
   "nbconvert_exporter": "python",
   "pygments_lexer": "ipython3",
   "version": "3.9.5"
  }
 },
 "nbformat": 4,
 "nbformat_minor": 4
}
